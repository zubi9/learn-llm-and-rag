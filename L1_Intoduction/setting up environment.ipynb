{
 "cells": [
  {
   "cell_type": "code",
   "execution_count": 1,
   "id": "75514f70-33d6-4051-b22f-f51a7f383fd3",
   "metadata": {},
   "outputs": [],
   "source": [
    "import openai\n",
    "from openai import OpenAI"
   ]
  },
  {
   "cell_type": "code",
   "execution_count": 2,
   "id": "dc9efb97-7d63-432a-bd67-d12a4ba3fc75",
   "metadata": {},
   "outputs": [],
   "source": [
    "import os"
   ]
  },
  {
   "cell_type": "code",
   "execution_count": 3,
   "id": "0e32db15-6073-46c7-9864-32ab6fc78329",
   "metadata": {},
   "outputs": [
    {
     "data": {
      "text/plain": [
       "'sk-proj-XWlzHSqaaK84EntB6Q57T3BlbkFJiTIx1c6PNzz6qWRcuYZ3'"
      ]
     },
     "execution_count": 3,
     "metadata": {},
     "output_type": "execute_result"
    }
   ],
   "source": [
    "os.environ['OPENAI_API_KEY']"
   ]
  },
  {
   "cell_type": "code",
   "execution_count": 4,
   "id": "dcbec466-6dc3-4cac-b820-b25c4b502e17",
   "metadata": {},
   "outputs": [],
   "source": [
    "client = OpenAI()"
   ]
  },
  {
   "cell_type": "code",
   "execution_count": 5,
   "id": "0d2e56f8-0f3f-4674-81d2-0c048102dde8",
   "metadata": {},
   "outputs": [],
   "source": [
    "response = client.chat.completions.create(\n",
    "    model='gpt-3.5-turbo',\n",
    "    messages=[{\"role\" : \"user\", \"content\": \"why one should be happy?\"}]\n",
    "    \n",
    ")"
   ]
  },
  {
   "cell_type": "code",
   "execution_count": 6,
   "id": "90b3f27e-61b8-43dc-b0ef-e4b500215409",
   "metadata": {},
   "outputs": [
    {
     "data": {
      "text/plain": [
       "\"1. Improved physical health: Being happy can boost your immune system, decrease stress hormones, and reduce the risk of chronic illnesses.\\n2. Mental well-being: Happiness is linked to lower rates of depression, anxiety, and other mental health issues.\\n3. Stronger relationships: Happy individuals tend to have better social connections and stronger relationships with others.\\n4. Increased productivity: Happiness can boost motivation, creativity, and overall productivity in various aspects of life.\\n5. Better ability to cope with stress: Happy people are better equipped to handle life's challenges and setbacks.\\n6. Longer life expectancy: Research suggests that happy individuals tend to live longer and have a higher quality of life.\\n7. Positive impact on others: Being happy can have a contagious effect on those around you, spreading positivity and improving the overall mood of your social circle.\""
      ]
     },
     "execution_count": 6,
     "metadata": {},
     "output_type": "execute_result"
    }
   ],
   "source": [
    "response.choices[0].message.content"
   ]
  },
  {
   "cell_type": "code",
   "execution_count": null,
   "id": "58e67ffd-dab0-4038-8380-de559ee84480",
   "metadata": {},
   "outputs": [],
   "source": []
  }
 ],
 "metadata": {
  "kernelspec": {
   "display_name": "Python 3 (ipykernel)",
   "language": "python",
   "name": "python3"
  },
  "language_info": {
   "codemirror_mode": {
    "name": "ipython",
    "version": 3
   },
   "file_extension": ".py",
   "mimetype": "text/x-python",
   "name": "python",
   "nbconvert_exporter": "python",
   "pygments_lexer": "ipython3",
   "version": "3.12.3"
  }
 },
 "nbformat": 4,
 "nbformat_minor": 5
}
